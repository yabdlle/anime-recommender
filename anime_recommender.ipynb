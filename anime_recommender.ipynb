{
  "nbformat": 4,
  "nbformat_minor": 0,
  "metadata": {
    "colab": {
      "provenance": []
    },
    "kernelspec": {
      "name": "python3",
      "display_name": "Python 3"
    },
    "language_info": {
      "name": "python"
    },
    "widgets": {
      "application/vnd.jupyter.widget-state+json": {
        "a4e2a7f291f84c699391bde2af672cfa": {
          "model_module": "@jupyter-widgets/controls",
          "model_name": "TextModel",
          "model_module_version": "1.5.0",
          "state": {
            "_dom_classes": [],
            "_model_module": "@jupyter-widgets/controls",
            "_model_module_version": "1.5.0",
            "_model_name": "TextModel",
            "_view_count": null,
            "_view_module": "@jupyter-widgets/controls",
            "_view_module_version": "1.5.0",
            "_view_name": "TextView",
            "continuous_update": true,
            "description": "Anime Name:",
            "description_tooltip": null,
            "disabled": false,
            "layout": "IPY_MODEL_369fb8e95a1f42b498db350d5a80c7b2",
            "placeholder": "​",
            "style": "IPY_MODEL_12a16f048b5941f39e02a5c36d2fea0a",
            "value": "One Piece"
          }
        },
        "369fb8e95a1f42b498db350d5a80c7b2": {
          "model_module": "@jupyter-widgets/base",
          "model_name": "LayoutModel",
          "model_module_version": "1.2.0",
          "state": {
            "_model_module": "@jupyter-widgets/base",
            "_model_module_version": "1.2.0",
            "_model_name": "LayoutModel",
            "_view_count": null,
            "_view_module": "@jupyter-widgets/base",
            "_view_module_version": "1.2.0",
            "_view_name": "LayoutView",
            "align_content": null,
            "align_items": null,
            "align_self": null,
            "border": null,
            "bottom": null,
            "display": null,
            "flex": null,
            "flex_flow": null,
            "grid_area": null,
            "grid_auto_columns": null,
            "grid_auto_flow": null,
            "grid_auto_rows": null,
            "grid_column": null,
            "grid_gap": null,
            "grid_row": null,
            "grid_template_areas": null,
            "grid_template_columns": null,
            "grid_template_rows": null,
            "height": null,
            "justify_content": null,
            "justify_items": null,
            "left": null,
            "margin": null,
            "max_height": null,
            "max_width": null,
            "min_height": null,
            "min_width": null,
            "object_fit": null,
            "object_position": null,
            "order": null,
            "overflow": null,
            "overflow_x": null,
            "overflow_y": null,
            "padding": null,
            "right": null,
            "top": null,
            "visibility": null,
            "width": null
          }
        },
        "12a16f048b5941f39e02a5c36d2fea0a": {
          "model_module": "@jupyter-widgets/controls",
          "model_name": "DescriptionStyleModel",
          "model_module_version": "1.5.0",
          "state": {
            "_model_module": "@jupyter-widgets/controls",
            "_model_module_version": "1.5.0",
            "_model_name": "DescriptionStyleModel",
            "_view_count": null,
            "_view_module": "@jupyter-widgets/base",
            "_view_module_version": "1.2.0",
            "_view_name": "StyleView",
            "description_width": ""
          }
        },
        "0bf225877d5c4318b1dc3ee6d0acc401": {
          "model_module": "@jupyter-widgets/output",
          "model_name": "OutputModel",
          "model_module_version": "1.0.0",
          "state": {
            "_dom_classes": [],
            "_model_module": "@jupyter-widgets/output",
            "_model_module_version": "1.0.0",
            "_model_name": "OutputModel",
            "_view_count": null,
            "_view_module": "@jupyter-widgets/output",
            "_view_module_version": "1.0.0",
            "_view_name": "OutputView",
            "layout": "IPY_MODEL_9e87d94a43b34988a1244ccebf443f3c",
            "msg_id": "",
            "outputs": [
              {
                "output_type": "display_data",
                "data": {
                  "text/plain": "       anime_id                                       English name\n11           21                                          One Piece\n430         459                               One Piece: The Movie\n431         460              One Piece: Clockwork Island Adventure\n432         461  One Piece: Chopper Kingdom of Strange Animal I...\n433         462                                One Piece: Dead End\n...         ...                                                ...\n23662     53880                         One Piece: The Planetarium\n23670     53890  One Piece: Recapping Fierce Fights! Straw Hats...\n23898     54196                                            UNKNOWN\n24539     55289  One Piece: Recapping Fierce Fights! Zoro vs. a...\n24831     55647  One Piece: Recapping Fierce Fights! The Counte...\n\n[63 rows x 2 columns]",
                  "text/html": "\n  <div id=\"df-e65c9351-591d-4b2f-91be-9478269a2eb3\" class=\"colab-df-container\">\n    <div>\n<style scoped>\n    .dataframe tbody tr th:only-of-type {\n        vertical-align: middle;\n    }\n\n    .dataframe tbody tr th {\n        vertical-align: top;\n    }\n\n    .dataframe thead th {\n        text-align: right;\n    }\n</style>\n<table border=\"1\" class=\"dataframe\">\n  <thead>\n    <tr style=\"text-align: right;\">\n      <th></th>\n      <th>anime_id</th>\n      <th>English name</th>\n    </tr>\n  </thead>\n  <tbody>\n    <tr>\n      <th>11</th>\n      <td>21</td>\n      <td>One Piece</td>\n    </tr>\n    <tr>\n      <th>430</th>\n      <td>459</td>\n      <td>One Piece: The Movie</td>\n    </tr>\n    <tr>\n      <th>431</th>\n      <td>460</td>\n      <td>One Piece: Clockwork Island Adventure</td>\n    </tr>\n    <tr>\n      <th>432</th>\n      <td>461</td>\n      <td>One Piece: Chopper Kingdom of Strange Animal I...</td>\n    </tr>\n    <tr>\n      <th>433</th>\n      <td>462</td>\n      <td>One Piece: Dead End</td>\n    </tr>\n    <tr>\n      <th>...</th>\n      <td>...</td>\n      <td>...</td>\n    </tr>\n    <tr>\n      <th>23662</th>\n      <td>53880</td>\n      <td>One Piece: The Planetarium</td>\n    </tr>\n    <tr>\n      <th>23670</th>\n      <td>53890</td>\n      <td>One Piece: Recapping Fierce Fights! Straw Hats...</td>\n    </tr>\n    <tr>\n      <th>23898</th>\n      <td>54196</td>\n      <td>UNKNOWN</td>\n    </tr>\n    <tr>\n      <th>24539</th>\n      <td>55289</td>\n      <td>One Piece: Recapping Fierce Fights! Zoro vs. a...</td>\n    </tr>\n    <tr>\n      <th>24831</th>\n      <td>55647</td>\n      <td>One Piece: Recapping Fierce Fights! The Counte...</td>\n    </tr>\n  </tbody>\n</table>\n<p>63 rows × 2 columns</p>\n</div>\n    <div class=\"colab-df-buttons\">\n\n  <div class=\"colab-df-container\">\n    <button class=\"colab-df-convert\" onclick=\"convertToInteractive('df-e65c9351-591d-4b2f-91be-9478269a2eb3')\"\n            title=\"Convert this dataframe to an interactive table.\"\n            style=\"display:none;\">\n\n  <svg xmlns=\"http://www.w3.org/2000/svg\" height=\"24px\" viewBox=\"0 -960 960 960\">\n    <path d=\"M120-120v-720h720v720H120Zm60-500h600v-160H180v160Zm220 220h160v-160H400v160Zm0 220h160v-160H400v160ZM180-400h160v-160H180v160Zm440 0h160v-160H620v160ZM180-180h160v-160H180v160Zm440 0h160v-160H620v160Z\"/>\n  </svg>\n    </button>\n\n  <style>\n    .colab-df-container {\n      display:flex;\n      gap: 12px;\n    }\n\n    .colab-df-convert {\n      background-color: #E8F0FE;\n      border: none;\n      border-radius: 50%;\n      cursor: pointer;\n      display: none;\n      fill: #1967D2;\n      height: 32px;\n      padding: 0 0 0 0;\n      width: 32px;\n    }\n\n    .colab-df-convert:hover {\n      background-color: #E2EBFA;\n      box-shadow: 0px 1px 2px rgba(60, 64, 67, 0.3), 0px 1px 3px 1px rgba(60, 64, 67, 0.15);\n      fill: #174EA6;\n    }\n\n    .colab-df-buttons div {\n      margin-bottom: 4px;\n    }\n\n    [theme=dark] .colab-df-convert {\n      background-color: #3B4455;\n      fill: #D2E3FC;\n    }\n\n    [theme=dark] .colab-df-convert:hover {\n      background-color: #434B5C;\n      box-shadow: 0px 1px 3px 1px rgba(0, 0, 0, 0.15);\n      filter: drop-shadow(0px 1px 2px rgba(0, 0, 0, 0.3));\n      fill: #FFFFFF;\n    }\n  </style>\n\n    <script>\n      const buttonEl =\n        document.querySelector('#df-e65c9351-591d-4b2f-91be-9478269a2eb3 button.colab-df-convert');\n      buttonEl.style.display =\n        google.colab.kernel.accessAllowed ? 'block' : 'none';\n\n      async function convertToInteractive(key) {\n        const element = document.querySelector('#df-e65c9351-591d-4b2f-91be-9478269a2eb3');\n        const dataTable =\n          await google.colab.kernel.invokeFunction('convertToInteractive',\n                                                    [key], {});\n        if (!dataTable) return;\n\n        const docLinkHtml = 'Like what you see? Visit the ' +\n          '<a target=\"_blank\" href=https://colab.research.google.com/notebooks/data_table.ipynb>data table notebook</a>'\n          + ' to learn more about interactive tables.';\n        element.innerHTML = '';\n        dataTable['output_type'] = 'display_data';\n        await google.colab.output.renderOutput(dataTable, element);\n        const docLink = document.createElement('div');\n        docLink.innerHTML = docLinkHtml;\n        element.appendChild(docLink);\n      }\n    </script>\n  </div>\n\n\n<div id=\"df-fa97c8a0-312d-4966-af93-e1f50e34e968\">\n  <button class=\"colab-df-quickchart\" onclick=\"quickchart('df-fa97c8a0-312d-4966-af93-e1f50e34e968')\"\n            title=\"Suggest charts\"\n            style=\"display:none;\">\n\n<svg xmlns=\"http://www.w3.org/2000/svg\" height=\"24px\"viewBox=\"0 0 24 24\"\n     width=\"24px\">\n    <g>\n        <path d=\"M19 3H5c-1.1 0-2 .9-2 2v14c0 1.1.9 2 2 2h14c1.1 0 2-.9 2-2V5c0-1.1-.9-2-2-2zM9 17H7v-7h2v7zm4 0h-2V7h2v10zm4 0h-2v-4h2v4z\"/>\n    </g>\n</svg>\n  </button>\n\n<style>\n  .colab-df-quickchart {\n      --bg-color: #E8F0FE;\n      --fill-color: #1967D2;\n      --hover-bg-color: #E2EBFA;\n      --hover-fill-color: #174EA6;\n      --disabled-fill-color: #AAA;\n      --disabled-bg-color: #DDD;\n  }\n\n  [theme=dark] .colab-df-quickchart {\n      --bg-color: #3B4455;\n      --fill-color: #D2E3FC;\n      --hover-bg-color: #434B5C;\n      --hover-fill-color: #FFFFFF;\n      --disabled-bg-color: #3B4455;\n      --disabled-fill-color: #666;\n  }\n\n  .colab-df-quickchart {\n    background-color: var(--bg-color);\n    border: none;\n    border-radius: 50%;\n    cursor: pointer;\n    display: none;\n    fill: var(--fill-color);\n    height: 32px;\n    padding: 0;\n    width: 32px;\n  }\n\n  .colab-df-quickchart:hover {\n    background-color: var(--hover-bg-color);\n    box-shadow: 0 1px 2px rgba(60, 64, 67, 0.3), 0 1px 3px 1px rgba(60, 64, 67, 0.15);\n    fill: var(--button-hover-fill-color);\n  }\n\n  .colab-df-quickchart-complete:disabled,\n  .colab-df-quickchart-complete:disabled:hover {\n    background-color: var(--disabled-bg-color);\n    fill: var(--disabled-fill-color);\n    box-shadow: none;\n  }\n\n  .colab-df-spinner {\n    border: 2px solid var(--fill-color);\n    border-color: transparent;\n    border-bottom-color: var(--fill-color);\n    animation:\n      spin 1s steps(1) infinite;\n  }\n\n  @keyframes spin {\n    0% {\n      border-color: transparent;\n      border-bottom-color: var(--fill-color);\n      border-left-color: var(--fill-color);\n    }\n    20% {\n      border-color: transparent;\n      border-left-color: var(--fill-color);\n      border-top-color: var(--fill-color);\n    }\n    30% {\n      border-color: transparent;\n      border-left-color: var(--fill-color);\n      border-top-color: var(--fill-color);\n      border-right-color: var(--fill-color);\n    }\n    40% {\n      border-color: transparent;\n      border-right-color: var(--fill-color);\n      border-top-color: var(--fill-color);\n    }\n    60% {\n      border-color: transparent;\n      border-right-color: var(--fill-color);\n    }\n    80% {\n      border-color: transparent;\n      border-right-color: var(--fill-color);\n      border-bottom-color: var(--fill-color);\n    }\n    90% {\n      border-color: transparent;\n      border-bottom-color: var(--fill-color);\n    }\n  }\n</style>\n\n  <script>\n    async function quickchart(key) {\n      const quickchartButtonEl =\n        document.querySelector('#' + key + ' button');\n      quickchartButtonEl.disabled = true;  // To prevent multiple clicks.\n      quickchartButtonEl.classList.add('colab-df-spinner');\n      try {\n        const charts = await google.colab.kernel.invokeFunction(\n            'suggestCharts', [key], {});\n      } catch (error) {\n        console.error('Error during call to suggestCharts:', error);\n      }\n      quickchartButtonEl.classList.remove('colab-df-spinner');\n      quickchartButtonEl.classList.add('colab-df-quickchart-complete');\n    }\n    (() => {\n      let quickchartButtonEl =\n        document.querySelector('#df-fa97c8a0-312d-4966-af93-e1f50e34e968 button');\n      quickchartButtonEl.style.display =\n        google.colab.kernel.accessAllowed ? 'block' : 'none';\n    })();\n  </script>\n</div>\n\n    </div>\n  </div>\n",
                  "application/vnd.google.colaboratory.intrinsic+json": {
                    "type": "dataframe",
                    "summary": "{\n  \"name\": \"display(movie_name_input, recommendation_list)\",\n  \"rows\": 63,\n  \"fields\": [\n    {\n      \"column\": \"anime_id\",\n      \"properties\": {\n        \"dtype\": \"number\",\n        \"std\": 20066,\n        \"min\": 21,\n        \"max\": 55647,\n        \"num_unique_values\": 63,\n        \"samples\": [\n          55289,\n          53878,\n          21\n        ],\n        \"semantic_type\": \"\",\n        \"description\": \"\"\n      }\n    },\n    {\n      \"column\": \"English name\",\n      \"properties\": {\n        \"dtype\": \"string\",\n        \"num_unique_values\": 51,\n        \"samples\": [\n          \"One Piece: A Comprehensive Anatomy! The Legend of Kozuki Oden!\",\n          \"One Piece: Barto's Secret Room\",\n          \"One Piece: Departure to the Starry Sky\"\n        ],\n        \"semantic_type\": \"\",\n        \"description\": \"\"\n      }\n    }\n  ]\n}"
                  }
                },
                "metadata": {}
              }
            ]
          }
        },
        "9e87d94a43b34988a1244ccebf443f3c": {
          "model_module": "@jupyter-widgets/base",
          "model_name": "LayoutModel",
          "model_module_version": "1.2.0",
          "state": {
            "_model_module": "@jupyter-widgets/base",
            "_model_module_version": "1.2.0",
            "_model_name": "LayoutModel",
            "_view_count": null,
            "_view_module": "@jupyter-widgets/base",
            "_view_module_version": "1.2.0",
            "_view_name": "LayoutView",
            "align_content": null,
            "align_items": null,
            "align_self": null,
            "border": null,
            "bottom": null,
            "display": null,
            "flex": null,
            "flex_flow": null,
            "grid_area": null,
            "grid_auto_columns": null,
            "grid_auto_flow": null,
            "grid_auto_rows": null,
            "grid_column": null,
            "grid_gap": null,
            "grid_row": null,
            "grid_template_areas": null,
            "grid_template_columns": null,
            "grid_template_rows": null,
            "height": null,
            "justify_content": null,
            "justify_items": null,
            "left": null,
            "margin": null,
            "max_height": null,
            "max_width": null,
            "min_height": null,
            "min_width": null,
            "object_fit": null,
            "object_position": null,
            "order": null,
            "overflow": null,
            "overflow_x": null,
            "overflow_y": null,
            "padding": null,
            "right": null,
            "top": null,
            "visibility": null,
            "width": null
          }
        },
        "73955860afa14b88bfbd91af02ec0816": {
          "model_module": "@jupyter-widgets/controls",
          "model_name": "TextModel",
          "model_module_version": "1.5.0",
          "state": {
            "_dom_classes": [],
            "_model_module": "@jupyter-widgets/controls",
            "_model_module_version": "1.5.0",
            "_model_name": "TextModel",
            "_view_count": null,
            "_view_module": "@jupyter-widgets/controls",
            "_view_module_version": "1.5.0",
            "_view_name": "TextView",
            "continuous_update": true,
            "description": "Anime :",
            "description_tooltip": null,
            "disabled": false,
            "layout": "IPY_MODEL_56f685a4b8b84246883714a3aa71df69",
            "placeholder": "​",
            "style": "IPY_MODEL_07a67f9c7c964d579be1607c78d1f49e",
            "value": "Code Geass"
          }
        },
        "56f685a4b8b84246883714a3aa71df69": {
          "model_module": "@jupyter-widgets/base",
          "model_name": "LayoutModel",
          "model_module_version": "1.2.0",
          "state": {
            "_model_module": "@jupyter-widgets/base",
            "_model_module_version": "1.2.0",
            "_model_name": "LayoutModel",
            "_view_count": null,
            "_view_module": "@jupyter-widgets/base",
            "_view_module_version": "1.2.0",
            "_view_name": "LayoutView",
            "align_content": null,
            "align_items": null,
            "align_self": null,
            "border": null,
            "bottom": null,
            "display": null,
            "flex": null,
            "flex_flow": null,
            "grid_area": null,
            "grid_auto_columns": null,
            "grid_auto_flow": null,
            "grid_auto_rows": null,
            "grid_column": null,
            "grid_gap": null,
            "grid_row": null,
            "grid_template_areas": null,
            "grid_template_columns": null,
            "grid_template_rows": null,
            "height": null,
            "justify_content": null,
            "justify_items": null,
            "left": null,
            "margin": null,
            "max_height": null,
            "max_width": null,
            "min_height": null,
            "min_width": null,
            "object_fit": null,
            "object_position": null,
            "order": null,
            "overflow": null,
            "overflow_x": null,
            "overflow_y": null,
            "padding": null,
            "right": null,
            "top": null,
            "visibility": null,
            "width": null
          }
        },
        "07a67f9c7c964d579be1607c78d1f49e": {
          "model_module": "@jupyter-widgets/controls",
          "model_name": "DescriptionStyleModel",
          "model_module_version": "1.5.0",
          "state": {
            "_model_module": "@jupyter-widgets/controls",
            "_model_module_version": "1.5.0",
            "_model_name": "DescriptionStyleModel",
            "_view_count": null,
            "_view_module": "@jupyter-widgets/base",
            "_view_module_version": "1.2.0",
            "_view_name": "StyleView",
            "description_width": ""
          }
        },
        "83eca6d29d8e4e19be08f903aa1cd0b7": {
          "model_module": "@jupyter-widgets/output",
          "model_name": "OutputModel",
          "model_module_version": "1.0.0",
          "state": {
            "_dom_classes": [],
            "_model_module": "@jupyter-widgets/output",
            "_model_module_version": "1.0.0",
            "_model_name": "OutputModel",
            "_view_count": null,
            "_view_module": "@jupyter-widgets/output",
            "_view_module_version": "1.0.0",
            "_view_name": "OutputView",
            "layout": "IPY_MODEL_49a11cd01d5e46939133379414d21001",
            "msg_id": "",
            "outputs": [
              {
                "output_type": "display_data",
                "data": {
                  "text/plain": "       similar       all     score  anime_id  \\\n1431  1.000042  0.351502  2.845051      1575   \n2647  0.852969  0.307103  2.777470      2904   \n1393  0.742446  0.498132  1.490460      1535   \n3961  0.528693  0.314369  1.681763      5114   \n7428  0.520150  0.367864  1.413972     16498   \n4624  0.519317  0.341732  1.519661      6547   \n6596  0.517691  0.370135  1.398655     11757   \n202   0.513440  0.332752  1.543011       226   \n100   0.504063  0.310604  1.622849       121   \n3554  0.466305  0.303177  1.538062      4224   \n\n                                    Name  \\\n1431     Code Geass: Hangyaku no Lelouch   \n2647  Code Geass: Hangyaku no Lelouch R2   \n1393                          Death Note   \n3961    Fullmetal Alchemist: Brotherhood   \n7428                  Shingeki no Kyojin   \n4624                        Angel Beats!   \n6596                    Sword Art Online   \n202                           Elfen Lied   \n100                  Fullmetal Alchemist   \n3554                           Toradora!   \n\n                                 English name                  Other name  \\\n1431     Code Geass: Lelouch of the Rebellion             コードギアス 反逆のルルーシュ   \n2647  Code Geass: Lelouch of the Rebellion R2          コードギアス 反逆のルルーシュ 続編   \n1393                               Death Note                       デスノート   \n3961         Fullmetal Alchemist: Brotherhood  鋼の錬金術師 FULLMETAL ALCHEMIST   \n7428                          Attack on Titan                       進撃の巨人   \n4624                             Angel Beats!     Angel Beats!（エンジェルビーツ!）   \n6596                         Sword Art Online                ソードアート・オンライン   \n202                                Elfen Lied                    エルフェンリート   \n100                       Fullmetal Alchemist                      鋼の錬金術師   \n3554                                Toradora!                       とらドラ！   \n\n     Score                                            Genres  \\\n1431   8.7              Action, Award Winning, Drama, Sci-Fi   \n2647  8.91              Action, Award Winning, Drama, Sci-Fi   \n1393  8.62                            Supernatural, Suspense   \n3961   9.1                 Action, Adventure, Drama, Fantasy   \n7428  8.54            Action, Award Winning, Drama, Suspense   \n4624  8.06                               Drama, Supernatural   \n6596   7.2               Action, Adventure, Fantasy, Romance   \n202   7.48      Action, Drama, Horror, Romance, Supernatural   \n100   8.11  Action, Adventure, Award Winning, Drama, Fantasy   \n3554  8.08                                    Drama, Romance   \n\n                                               Synopsis  ...       Source  \\\n1431  In the year 2010, the Holy Empire of Britannia...  ...     Original   \n2647  One year has passed since the Black Rebellion,...  ...     Original   \n1393  Brutal murders, petty thefts, and senseless vi...  ...        Manga   \n3961  After a horrific alchemy experiment goes wrong...  ...        Manga   \n7428  Centuries ago, mankind was slaughtered to near...  ...        Manga   \n4624  Death is one of many mysteries that has left h...  ...     Original   \n6596  Ever since the release of the innovative Nerve...  ...  Light novel   \n202   Lucy is a special breed of human referred to a...  ...        Manga   \n100   Edward Elric, a young, brilliant alchemist, ha...  ...        Manga   \n3554  Ryuuji Takasu is a gentle high school student ...  ...  Light novel   \n\n           Duration                          Rating    Rank Popularity  \\\n1431  24 min per ep  R - 17+ (violence & profanity)    51.0         21   \n2647  24 min per ep  R - 17+ (violence & profanity)    20.0         47   \n1393  23 min per ep  R - 17+ (violence & profanity)    74.0          2   \n3961  24 min per ep  R - 17+ (violence & profanity)     1.0          3   \n7428  24 min per ep  R - 17+ (violence & profanity)   107.0          1   \n4624  24 min per ep       PG-13 - Teens 13 or older   507.0         28   \n6596  23 min per ep       PG-13 - Teens 13 or older  3055.0          5   \n202   25 min per ep                R+ - Mild Nudity  1786.0         71   \n100   24 min per ep  R - 17+ (violence & profanity)   454.0         76   \n3554  23 min per ep       PG-13 - Teens 13 or older   487.0         22   \n\n     Favorites  Scored By  Members  \\\n1431    105379  1343476.0  2151722   \n2647     74578  1145264.0  1699634   \n1393    167586  2619479.0  3713315   \n3961    217606  2020030.0  3176556   \n7428    163844  2660903.0  3744541   \n4624     47648  1247171.0  2010342   \n6596     67014  2072240.0  2951821   \n202      23559   851108.0  1462904   \n100      25502   868434.0  1426703   \n3554     55666  1330877.0  2121399   \n\n                                              Image URL  \\\n1431  https://cdn.myanimelist.net/images/anime/1032/...   \n2647  https://cdn.myanimelist.net/images/anime/1088/...   \n1393  https://cdn.myanimelist.net/images/anime/9/945...   \n3961  https://cdn.myanimelist.net/images/anime/1208/...   \n7428  https://cdn.myanimelist.net/images/anime/10/47...   \n4624  https://cdn.myanimelist.net/images/anime/1244/...   \n6596  https://cdn.myanimelist.net/images/anime/11/39...   \n202   https://cdn.myanimelist.net/images/anime/1780/...   \n100   https://cdn.myanimelist.net/images/anime/10/75...   \n3554  https://cdn.myanimelist.net/images/anime/13/22...   \n\n                                 clean_title  \n1431     Code Geass Lelouch of the Rebellion  \n2647  Code Geass Lelouch of the Rebellion R2  \n1393                              Death Note  \n3961         Fullmetal Alchemist Brotherhood  \n7428                         Attack on Titan  \n4624                             Angel Beats  \n6596                        Sword Art Online  \n202                               Elfen Lied  \n100                      Fullmetal Alchemist  \n3554                                Toradora  \n\n[10 rows x 28 columns]",
                  "text/html": "\n  <div id=\"df-500c476f-0787-4890-9947-a5d61369ca0b\" class=\"colab-df-container\">\n    <div>\n<style scoped>\n    .dataframe tbody tr th:only-of-type {\n        vertical-align: middle;\n    }\n\n    .dataframe tbody tr th {\n        vertical-align: top;\n    }\n\n    .dataframe thead th {\n        text-align: right;\n    }\n</style>\n<table border=\"1\" class=\"dataframe\">\n  <thead>\n    <tr style=\"text-align: right;\">\n      <th></th>\n      <th>similar</th>\n      <th>all</th>\n      <th>score</th>\n      <th>anime_id</th>\n      <th>Name</th>\n      <th>English name</th>\n      <th>Other name</th>\n      <th>Score</th>\n      <th>Genres</th>\n      <th>Synopsis</th>\n      <th>...</th>\n      <th>Source</th>\n      <th>Duration</th>\n      <th>Rating</th>\n      <th>Rank</th>\n      <th>Popularity</th>\n      <th>Favorites</th>\n      <th>Scored By</th>\n      <th>Members</th>\n      <th>Image URL</th>\n      <th>clean_title</th>\n    </tr>\n  </thead>\n  <tbody>\n    <tr>\n      <th>1431</th>\n      <td>1.000042</td>\n      <td>0.351502</td>\n      <td>2.845051</td>\n      <td>1575</td>\n      <td>Code Geass: Hangyaku no Lelouch</td>\n      <td>Code Geass: Lelouch of the Rebellion</td>\n      <td>コードギアス 反逆のルルーシュ</td>\n      <td>8.7</td>\n      <td>Action, Award Winning, Drama, Sci-Fi</td>\n      <td>In the year 2010, the Holy Empire of Britannia...</td>\n      <td>...</td>\n      <td>Original</td>\n      <td>24 min per ep</td>\n      <td>R - 17+ (violence &amp; profanity)</td>\n      <td>51.0</td>\n      <td>21</td>\n      <td>105379</td>\n      <td>1343476.0</td>\n      <td>2151722</td>\n      <td>https://cdn.myanimelist.net/images/anime/1032/...</td>\n      <td>Code Geass Lelouch of the Rebellion</td>\n    </tr>\n    <tr>\n      <th>2647</th>\n      <td>0.852969</td>\n      <td>0.307103</td>\n      <td>2.777470</td>\n      <td>2904</td>\n      <td>Code Geass: Hangyaku no Lelouch R2</td>\n      <td>Code Geass: Lelouch of the Rebellion R2</td>\n      <td>コードギアス 反逆のルルーシュ 続編</td>\n      <td>8.91</td>\n      <td>Action, Award Winning, Drama, Sci-Fi</td>\n      <td>One year has passed since the Black Rebellion,...</td>\n      <td>...</td>\n      <td>Original</td>\n      <td>24 min per ep</td>\n      <td>R - 17+ (violence &amp; profanity)</td>\n      <td>20.0</td>\n      <td>47</td>\n      <td>74578</td>\n      <td>1145264.0</td>\n      <td>1699634</td>\n      <td>https://cdn.myanimelist.net/images/anime/1088/...</td>\n      <td>Code Geass Lelouch of the Rebellion R2</td>\n    </tr>\n    <tr>\n      <th>1393</th>\n      <td>0.742446</td>\n      <td>0.498132</td>\n      <td>1.490460</td>\n      <td>1535</td>\n      <td>Death Note</td>\n      <td>Death Note</td>\n      <td>デスノート</td>\n      <td>8.62</td>\n      <td>Supernatural, Suspense</td>\n      <td>Brutal murders, petty thefts, and senseless vi...</td>\n      <td>...</td>\n      <td>Manga</td>\n      <td>23 min per ep</td>\n      <td>R - 17+ (violence &amp; profanity)</td>\n      <td>74.0</td>\n      <td>2</td>\n      <td>167586</td>\n      <td>2619479.0</td>\n      <td>3713315</td>\n      <td>https://cdn.myanimelist.net/images/anime/9/945...</td>\n      <td>Death Note</td>\n    </tr>\n    <tr>\n      <th>3961</th>\n      <td>0.528693</td>\n      <td>0.314369</td>\n      <td>1.681763</td>\n      <td>5114</td>\n      <td>Fullmetal Alchemist: Brotherhood</td>\n      <td>Fullmetal Alchemist: Brotherhood</td>\n      <td>鋼の錬金術師 FULLMETAL ALCHEMIST</td>\n      <td>9.1</td>\n      <td>Action, Adventure, Drama, Fantasy</td>\n      <td>After a horrific alchemy experiment goes wrong...</td>\n      <td>...</td>\n      <td>Manga</td>\n      <td>24 min per ep</td>\n      <td>R - 17+ (violence &amp; profanity)</td>\n      <td>1.0</td>\n      <td>3</td>\n      <td>217606</td>\n      <td>2020030.0</td>\n      <td>3176556</td>\n      <td>https://cdn.myanimelist.net/images/anime/1208/...</td>\n      <td>Fullmetal Alchemist Brotherhood</td>\n    </tr>\n    <tr>\n      <th>7428</th>\n      <td>0.520150</td>\n      <td>0.367864</td>\n      <td>1.413972</td>\n      <td>16498</td>\n      <td>Shingeki no Kyojin</td>\n      <td>Attack on Titan</td>\n      <td>進撃の巨人</td>\n      <td>8.54</td>\n      <td>Action, Award Winning, Drama, Suspense</td>\n      <td>Centuries ago, mankind was slaughtered to near...</td>\n      <td>...</td>\n      <td>Manga</td>\n      <td>24 min per ep</td>\n      <td>R - 17+ (violence &amp; profanity)</td>\n      <td>107.0</td>\n      <td>1</td>\n      <td>163844</td>\n      <td>2660903.0</td>\n      <td>3744541</td>\n      <td>https://cdn.myanimelist.net/images/anime/10/47...</td>\n      <td>Attack on Titan</td>\n    </tr>\n    <tr>\n      <th>4624</th>\n      <td>0.519317</td>\n      <td>0.341732</td>\n      <td>1.519661</td>\n      <td>6547</td>\n      <td>Angel Beats!</td>\n      <td>Angel Beats!</td>\n      <td>Angel Beats!（エンジェルビーツ!）</td>\n      <td>8.06</td>\n      <td>Drama, Supernatural</td>\n      <td>Death is one of many mysteries that has left h...</td>\n      <td>...</td>\n      <td>Original</td>\n      <td>24 min per ep</td>\n      <td>PG-13 - Teens 13 or older</td>\n      <td>507.0</td>\n      <td>28</td>\n      <td>47648</td>\n      <td>1247171.0</td>\n      <td>2010342</td>\n      <td>https://cdn.myanimelist.net/images/anime/1244/...</td>\n      <td>Angel Beats</td>\n    </tr>\n    <tr>\n      <th>6596</th>\n      <td>0.517691</td>\n      <td>0.370135</td>\n      <td>1.398655</td>\n      <td>11757</td>\n      <td>Sword Art Online</td>\n      <td>Sword Art Online</td>\n      <td>ソードアート・オンライン</td>\n      <td>7.2</td>\n      <td>Action, Adventure, Fantasy, Romance</td>\n      <td>Ever since the release of the innovative Nerve...</td>\n      <td>...</td>\n      <td>Light novel</td>\n      <td>23 min per ep</td>\n      <td>PG-13 - Teens 13 or older</td>\n      <td>3055.0</td>\n      <td>5</td>\n      <td>67014</td>\n      <td>2072240.0</td>\n      <td>2951821</td>\n      <td>https://cdn.myanimelist.net/images/anime/11/39...</td>\n      <td>Sword Art Online</td>\n    </tr>\n    <tr>\n      <th>202</th>\n      <td>0.513440</td>\n      <td>0.332752</td>\n      <td>1.543011</td>\n      <td>226</td>\n      <td>Elfen Lied</td>\n      <td>Elfen Lied</td>\n      <td>エルフェンリート</td>\n      <td>7.48</td>\n      <td>Action, Drama, Horror, Romance, Supernatural</td>\n      <td>Lucy is a special breed of human referred to a...</td>\n      <td>...</td>\n      <td>Manga</td>\n      <td>25 min per ep</td>\n      <td>R+ - Mild Nudity</td>\n      <td>1786.0</td>\n      <td>71</td>\n      <td>23559</td>\n      <td>851108.0</td>\n      <td>1462904</td>\n      <td>https://cdn.myanimelist.net/images/anime/1780/...</td>\n      <td>Elfen Lied</td>\n    </tr>\n    <tr>\n      <th>100</th>\n      <td>0.504063</td>\n      <td>0.310604</td>\n      <td>1.622849</td>\n      <td>121</td>\n      <td>Fullmetal Alchemist</td>\n      <td>Fullmetal Alchemist</td>\n      <td>鋼の錬金術師</td>\n      <td>8.11</td>\n      <td>Action, Adventure, Award Winning, Drama, Fantasy</td>\n      <td>Edward Elric, a young, brilliant alchemist, ha...</td>\n      <td>...</td>\n      <td>Manga</td>\n      <td>24 min per ep</td>\n      <td>R - 17+ (violence &amp; profanity)</td>\n      <td>454.0</td>\n      <td>76</td>\n      <td>25502</td>\n      <td>868434.0</td>\n      <td>1426703</td>\n      <td>https://cdn.myanimelist.net/images/anime/10/75...</td>\n      <td>Fullmetal Alchemist</td>\n    </tr>\n    <tr>\n      <th>3554</th>\n      <td>0.466305</td>\n      <td>0.303177</td>\n      <td>1.538062</td>\n      <td>4224</td>\n      <td>Toradora!</td>\n      <td>Toradora!</td>\n      <td>とらドラ！</td>\n      <td>8.08</td>\n      <td>Drama, Romance</td>\n      <td>Ryuuji Takasu is a gentle high school student ...</td>\n      <td>...</td>\n      <td>Light novel</td>\n      <td>23 min per ep</td>\n      <td>PG-13 - Teens 13 or older</td>\n      <td>487.0</td>\n      <td>22</td>\n      <td>55666</td>\n      <td>1330877.0</td>\n      <td>2121399</td>\n      <td>https://cdn.myanimelist.net/images/anime/13/22...</td>\n      <td>Toradora</td>\n    </tr>\n  </tbody>\n</table>\n<p>10 rows × 28 columns</p>\n</div>\n    <div class=\"colab-df-buttons\">\n\n  <div class=\"colab-df-container\">\n    <button class=\"colab-df-convert\" onclick=\"convertToInteractive('df-500c476f-0787-4890-9947-a5d61369ca0b')\"\n            title=\"Convert this dataframe to an interactive table.\"\n            style=\"display:none;\">\n\n  <svg xmlns=\"http://www.w3.org/2000/svg\" height=\"24px\" viewBox=\"0 -960 960 960\">\n    <path d=\"M120-120v-720h720v720H120Zm60-500h600v-160H180v160Zm220 220h160v-160H400v160Zm0 220h160v-160H400v160ZM180-400h160v-160H180v160Zm440 0h160v-160H620v160ZM180-180h160v-160H180v160Zm440 0h160v-160H620v160Z\"/>\n  </svg>\n    </button>\n\n  <style>\n    .colab-df-container {\n      display:flex;\n      gap: 12px;\n    }\n\n    .colab-df-convert {\n      background-color: #E8F0FE;\n      border: none;\n      border-radius: 50%;\n      cursor: pointer;\n      display: none;\n      fill: #1967D2;\n      height: 32px;\n      padding: 0 0 0 0;\n      width: 32px;\n    }\n\n    .colab-df-convert:hover {\n      background-color: #E2EBFA;\n      box-shadow: 0px 1px 2px rgba(60, 64, 67, 0.3), 0px 1px 3px 1px rgba(60, 64, 67, 0.15);\n      fill: #174EA6;\n    }\n\n    .colab-df-buttons div {\n      margin-bottom: 4px;\n    }\n\n    [theme=dark] .colab-df-convert {\n      background-color: #3B4455;\n      fill: #D2E3FC;\n    }\n\n    [theme=dark] .colab-df-convert:hover {\n      background-color: #434B5C;\n      box-shadow: 0px 1px 3px 1px rgba(0, 0, 0, 0.15);\n      filter: drop-shadow(0px 1px 2px rgba(0, 0, 0, 0.3));\n      fill: #FFFFFF;\n    }\n  </style>\n\n    <script>\n      const buttonEl =\n        document.querySelector('#df-500c476f-0787-4890-9947-a5d61369ca0b button.colab-df-convert');\n      buttonEl.style.display =\n        google.colab.kernel.accessAllowed ? 'block' : 'none';\n\n      async function convertToInteractive(key) {\n        const element = document.querySelector('#df-500c476f-0787-4890-9947-a5d61369ca0b');\n        const dataTable =\n          await google.colab.kernel.invokeFunction('convertToInteractive',\n                                                    [key], {});\n        if (!dataTable) return;\n\n        const docLinkHtml = 'Like what you see? Visit the ' +\n          '<a target=\"_blank\" href=https://colab.research.google.com/notebooks/data_table.ipynb>data table notebook</a>'\n          + ' to learn more about interactive tables.';\n        element.innerHTML = '';\n        dataTable['output_type'] = 'display_data';\n        await google.colab.output.renderOutput(dataTable, element);\n        const docLink = document.createElement('div');\n        docLink.innerHTML = docLinkHtml;\n        element.appendChild(docLink);\n      }\n    </script>\n  </div>\n\n\n<div id=\"df-cfe7847a-4919-4983-9d2f-ada11a3ffde7\">\n  <button class=\"colab-df-quickchart\" onclick=\"quickchart('df-cfe7847a-4919-4983-9d2f-ada11a3ffde7')\"\n            title=\"Suggest charts\"\n            style=\"display:none;\">\n\n<svg xmlns=\"http://www.w3.org/2000/svg\" height=\"24px\"viewBox=\"0 0 24 24\"\n     width=\"24px\">\n    <g>\n        <path d=\"M19 3H5c-1.1 0-2 .9-2 2v14c0 1.1.9 2 2 2h14c1.1 0 2-.9 2-2V5c0-1.1-.9-2-2-2zM9 17H7v-7h2v7zm4 0h-2V7h2v10zm4 0h-2v-4h2v4z\"/>\n    </g>\n</svg>\n  </button>\n\n<style>\n  .colab-df-quickchart {\n      --bg-color: #E8F0FE;\n      --fill-color: #1967D2;\n      --hover-bg-color: #E2EBFA;\n      --hover-fill-color: #174EA6;\n      --disabled-fill-color: #AAA;\n      --disabled-bg-color: #DDD;\n  }\n\n  [theme=dark] .colab-df-quickchart {\n      --bg-color: #3B4455;\n      --fill-color: #D2E3FC;\n      --hover-bg-color: #434B5C;\n      --hover-fill-color: #FFFFFF;\n      --disabled-bg-color: #3B4455;\n      --disabled-fill-color: #666;\n  }\n\n  .colab-df-quickchart {\n    background-color: var(--bg-color);\n    border: none;\n    border-radius: 50%;\n    cursor: pointer;\n    display: none;\n    fill: var(--fill-color);\n    height: 32px;\n    padding: 0;\n    width: 32px;\n  }\n\n  .colab-df-quickchart:hover {\n    background-color: var(--hover-bg-color);\n    box-shadow: 0 1px 2px rgba(60, 64, 67, 0.3), 0 1px 3px 1px rgba(60, 64, 67, 0.15);\n    fill: var(--button-hover-fill-color);\n  }\n\n  .colab-df-quickchart-complete:disabled,\n  .colab-df-quickchart-complete:disabled:hover {\n    background-color: var(--disabled-bg-color);\n    fill: var(--disabled-fill-color);\n    box-shadow: none;\n  }\n\n  .colab-df-spinner {\n    border: 2px solid var(--fill-color);\n    border-color: transparent;\n    border-bottom-color: var(--fill-color);\n    animation:\n      spin 1s steps(1) infinite;\n  }\n\n  @keyframes spin {\n    0% {\n      border-color: transparent;\n      border-bottom-color: var(--fill-color);\n      border-left-color: var(--fill-color);\n    }\n    20% {\n      border-color: transparent;\n      border-left-color: var(--fill-color);\n      border-top-color: var(--fill-color);\n    }\n    30% {\n      border-color: transparent;\n      border-left-color: var(--fill-color);\n      border-top-color: var(--fill-color);\n      border-right-color: var(--fill-color);\n    }\n    40% {\n      border-color: transparent;\n      border-right-color: var(--fill-color);\n      border-top-color: var(--fill-color);\n    }\n    60% {\n      border-color: transparent;\n      border-right-color: var(--fill-color);\n    }\n    80% {\n      border-color: transparent;\n      border-right-color: var(--fill-color);\n      border-bottom-color: var(--fill-color);\n    }\n    90% {\n      border-color: transparent;\n      border-bottom-color: var(--fill-color);\n    }\n  }\n</style>\n\n  <script>\n    async function quickchart(key) {\n      const quickchartButtonEl =\n        document.querySelector('#' + key + ' button');\n      quickchartButtonEl.disabled = true;  // To prevent multiple clicks.\n      quickchartButtonEl.classList.add('colab-df-spinner');\n      try {\n        const charts = await google.colab.kernel.invokeFunction(\n            'suggestCharts', [key], {});\n      } catch (error) {\n        console.error('Error during call to suggestCharts:', error);\n      }\n      quickchartButtonEl.classList.remove('colab-df-spinner');\n      quickchartButtonEl.classList.add('colab-df-quickchart-complete');\n    }\n    (() => {\n      let quickchartButtonEl =\n        document.querySelector('#df-cfe7847a-4919-4983-9d2f-ada11a3ffde7 button');\n      quickchartButtonEl.style.display =\n        google.colab.kernel.accessAllowed ? 'block' : 'none';\n    })();\n  </script>\n</div>\n\n    </div>\n  </div>\n",
                  "application/vnd.google.colaboratory.intrinsic+json": {
                    "type": "dataframe"
                  }
                },
                "metadata": {}
              }
            ]
          }
        },
        "49a11cd01d5e46939133379414d21001": {
          "model_module": "@jupyter-widgets/base",
          "model_name": "LayoutModel",
          "model_module_version": "1.2.0",
          "state": {
            "_model_module": "@jupyter-widgets/base",
            "_model_module_version": "1.2.0",
            "_model_name": "LayoutModel",
            "_view_count": null,
            "_view_module": "@jupyter-widgets/base",
            "_view_module_version": "1.2.0",
            "_view_name": "LayoutView",
            "align_content": null,
            "align_items": null,
            "align_self": null,
            "border": null,
            "bottom": null,
            "display": null,
            "flex": null,
            "flex_flow": null,
            "grid_area": null,
            "grid_auto_columns": null,
            "grid_auto_flow": null,
            "grid_auto_rows": null,
            "grid_column": null,
            "grid_gap": null,
            "grid_row": null,
            "grid_template_areas": null,
            "grid_template_columns": null,
            "grid_template_rows": null,
            "height": null,
            "justify_content": null,
            "justify_items": null,
            "left": null,
            "margin": null,
            "max_height": null,
            "max_width": null,
            "min_height": null,
            "min_width": null,
            "object_fit": null,
            "object_position": null,
            "order": null,
            "overflow": null,
            "overflow_x": null,
            "overflow_y": null,
            "padding": null,
            "right": null,
            "top": null,
            "visibility": null,
            "width": null
          }
        }
      }
    }
  },
  "cells": [
    {
      "cell_type": "code",
      "execution_count": null,
      "metadata": {
        "id": "n8V6S5V-RmDN",
        "collapsed": true
      },
      "outputs": [],
      "source": [
        "import pandas as pd\n",
        "import re\n",
        "anime = pd.read_csv(\"anime-dataset-2023.csv\")\n",
        "anime.head()"
      ]
    },
    {
      "cell_type": "markdown",
      "source": [],
      "metadata": {
        "id": "9nmgqLqbQh9n"
      }
    },
    {
      "cell_type": "code",
      "source": [
        "import re\n",
        "\n",
        "def clean_title(title):\n",
        "    title = re.sub(\"[^a-zA-Z0-9 ]\", \"\", title)\n",
        "    return title\n",
        "\n",
        "anime['clean_title'] = anime['English name'].apply(clean_title)\n",
        "\n",
        "\n",
        "anime_cleaned = anime.dropna(subset=['Name', 'clean_title', 'Score', 'anime_id'])\n",
        "\n",
        "\n",
        "print(anime_cleaned[['Name', 'clean_title']].head())"
      ],
      "metadata": {
        "id": "WYwODmThnWNQ",
        "colab": {
          "base_uri": "https://localhost:8080/"
        },
        "outputId": "09ae1546-1aa8-4454-d04a-3aaae11eb31c"
      },
      "execution_count": null,
      "outputs": [
        {
          "output_type": "stream",
          "name": "stdout",
          "text": [
            "                              Name             clean_title\n",
            "0                     Cowboy Bebop            Cowboy Bebop\n",
            "1  Cowboy Bebop: Tengoku no Tobira  Cowboy Bebop The Movie\n",
            "2                           Trigun                  Trigun\n",
            "3               Witch Hunter Robin      Witch Hunter Robin\n",
            "4                   Bouken Ou Beet  Beet the Vandel Buster\n"
          ]
        }
      ]
    },
    {
      "cell_type": "code",
      "source": [
        "from sklearn.feature_extraction.text import TfidfVectorizer\n",
        "\n",
        "vectorizer = TfidfVectorizer(ngram_range=(1,2))\n",
        "\n",
        "tfidf = vectorizer.fit_transform(anime[\"clean_title\"])\n"
      ],
      "metadata": {
        "id": "i23v_HRupIyw"
      },
      "execution_count": null,
      "outputs": []
    },
    {
      "cell_type": "code",
      "source": [
        "from sklearn.metrics.pairwise import cosine_similarity\n",
        "import numpy as np\n",
        "\n",
        "# Function to search for anime by title and return the English name\n",
        "def search(name):\n",
        "    # Filter anime DataFrame to find matching titles\n",
        "    results = anime[anime['Name'].str.contains(name, case=False, na=False)]\n",
        "\n",
        "    if results.empty:\n",
        "        print(\"No results found.\")\n",
        "        return pd.DataFrame()  # Return an empty DataFrame if no matches are found\n",
        "\n",
        "    # Ensure results are sorted or handled as needed\n",
        "    return results[['anime_id', 'English name']]"
      ],
      "metadata": {
        "id": "LeCD2k8XpUy8"
      },
      "execution_count": null,
      "outputs": []
    },
    {
      "cell_type": "code",
      "source": [
        "import ipywidgets as widgets\n",
        "from IPython.display import display\n",
        "\n",
        "anime_input = widgets.Text(\n",
        "    value='',\n",
        "    description='Anime Name:',\n",
        "    disabled=False\n",
        ")\n",
        "\n",
        "anime_list = widgets.Output()\n",
        "\n",
        "def on_type(data):\n",
        "    with anime_list:\n",
        "        anime_list.clear_output()\n",
        "        name = data[\"new\"]\n",
        "        if len(name) > 2:  # Check if the input length is sufficient\n",
        "            results = search(name)\n",
        "            if not results.empty:\n",
        "                # Display the results with English names\n",
        "                display(results)\n",
        "\n",
        "anime_input.observe(on_type, names='value')\n",
        "\n",
        "display(anime_input, anime_list)"
      ],
      "metadata": {
        "colab": {
          "base_uri": "https://localhost:8080/",
          "height": 456,
          "referenced_widgets": [
            "a4e2a7f291f84c699391bde2af672cfa",
            "369fb8e95a1f42b498db350d5a80c7b2",
            "12a16f048b5941f39e02a5c36d2fea0a",
            "0bf225877d5c4318b1dc3ee6d0acc401",
            "9e87d94a43b34988a1244ccebf443f3c"
          ]
        },
        "collapsed": true,
        "id": "6b1w7wCuW1-q",
        "outputId": "8225a930-371a-4f70-a6c3-85171dd0aec2"
      },
      "execution_count": null,
      "outputs": [
        {
          "output_type": "display_data",
          "data": {
            "text/plain": [
              "Text(value='', description='Anime Name:')"
            ],
            "application/vnd.jupyter.widget-view+json": {
              "version_major": 2,
              "version_minor": 0,
              "model_id": "a4e2a7f291f84c699391bde2af672cfa"
            }
          },
          "metadata": {}
        },
        {
          "output_type": "display_data",
          "data": {
            "text/plain": [
              "Output()"
            ],
            "application/vnd.jupyter.widget-view+json": {
              "version_major": 2,
              "version_minor": 0,
              "model_id": "0bf225877d5c4318b1dc3ee6d0acc401"
            }
          },
          "metadata": {}
        }
      ]
    },
    {
      "cell_type": "code",
      "source": [
        "\n",
        "ratings = pd.read_csv(\"rating.csv\")\n",
        "animeID = 21\n",
        "animes = anime[anime[\"anime_id\"] == animeID]\n",
        "ratings.dtypes\n"
      ],
      "metadata": {
        "colab": {
          "base_uri": "https://localhost:8080/",
          "height": 178
        },
        "id": "MfYAHt36aI0E",
        "outputId": "3c85d45f-6c0e-4951-cac5-42a880e6d06c"
      },
      "execution_count": null,
      "outputs": [
        {
          "output_type": "execute_result",
          "data": {
            "text/plain": [
              "user_id     int64\n",
              "anime_id    int64\n",
              "rating      int64\n",
              "dtype: object"
            ],
            "text/html": [
              "<div>\n",
              "<style scoped>\n",
              "    .dataframe tbody tr th:only-of-type {\n",
              "        vertical-align: middle;\n",
              "    }\n",
              "\n",
              "    .dataframe tbody tr th {\n",
              "        vertical-align: top;\n",
              "    }\n",
              "\n",
              "    .dataframe thead th {\n",
              "        text-align: right;\n",
              "    }\n",
              "</style>\n",
              "<table border=\"1\" class=\"dataframe\">\n",
              "  <thead>\n",
              "    <tr style=\"text-align: right;\">\n",
              "      <th></th>\n",
              "      <th>0</th>\n",
              "    </tr>\n",
              "  </thead>\n",
              "  <tbody>\n",
              "    <tr>\n",
              "      <th>user_id</th>\n",
              "      <td>int64</td>\n",
              "    </tr>\n",
              "    <tr>\n",
              "      <th>anime_id</th>\n",
              "      <td>int64</td>\n",
              "    </tr>\n",
              "    <tr>\n",
              "      <th>rating</th>\n",
              "      <td>int64</td>\n",
              "    </tr>\n",
              "  </tbody>\n",
              "</table>\n",
              "</div><br><label><b>dtype:</b> object</label>"
            ]
          },
          "metadata": {},
          "execution_count": 528
        }
      ]
    },
    {
      "cell_type": "code",
      "source": [
        "similar_users = ratings[(ratings[\"anime_id\"] == animeID) & (ratings[\"rating\"] > 7)][\"user_id\"].unique()\n",
        "similar_user_recs = ratings[(ratings[\"user_id\"].isin(similar_users)) & (ratings[\"rating\"] > 7)][\"anime_id\"]\n",
        "similar_user_recs = similar_user_recs.value_counts() / len(similar_users)\n",
        "similar_user_recs = similar_user_recs[similar_user_recs > 0.1]\n",
        "\n"
      ],
      "metadata": {
        "id": "hLmE1o3lahfI"
      },
      "execution_count": null,
      "outputs": []
    },
    {
      "cell_type": "code",
      "source": [
        "all_users = ratings[(ratings[\"anime_id\"].isin(similar_user_recs.index)) & (ratings[\"rating\"] > 7)]\n",
        "all_user_recs = all_users[\"anime_id\"].value_counts() / len(all_users[\"user_id\"].unique())"
      ],
      "metadata": {
        "id": "EDpNAnqCqnEz"
      },
      "execution_count": null,
      "outputs": []
    },
    {
      "cell_type": "code",
      "source": [
        "rec_percentages = pd.concat([similar_user_recs, all_user_recs], axis=1)\n",
        "rec_percentages.columns = [\"similar\", \"all\"]\n",
        "\n"
      ],
      "metadata": {
        "id": "Ib4LncHEs5yL"
      },
      "execution_count": null,
      "outputs": []
    },
    {
      "cell_type": "code",
      "source": [
        "rec_percentages[\"score\"] = rec_percentages[\"similar\"] / rec_percentages[\"all\"]\n",
        "\n",
        "\n",
        "rec_percentages = rec_percentages.sort_values(\"score\", ascending=False)\n",
        "\n",
        "rec_percentages.head(10).merge(anime, left_index=True, right_on=\"anime_id\")\n",
        "\n"
      ],
      "metadata": {
        "colab": {
          "base_uri": "https://localhost:8080/",
          "height": 79
        },
        "id": "Gr-76VyouaoL",
        "outputId": "6a5337ec-5299-46ce-e605-b9b4e8f4a3ed"
      },
      "execution_count": null,
      "outputs": [
        {
          "output_type": "execute_result",
          "data": {
            "text/plain": [
              "Empty DataFrame\n",
              "Columns: [similar, all, score, anime_id, Name, English name, Other name, Score, Genres, Synopsis, Type, Episodes, Aired, Premiered, Status, Producers, Licensors, Studios, Source, Duration, Rating, Rank, Popularity, Favorites, Scored By, Members, Image URL, clean_title]\n",
              "Index: []\n",
              "\n",
              "[0 rows x 28 columns]"
            ],
            "text/html": [
              "\n",
              "  <div id=\"df-e1790c94-059e-48db-8267-4c63e4e06d00\" class=\"colab-df-container\">\n",
              "    <div>\n",
              "<style scoped>\n",
              "    .dataframe tbody tr th:only-of-type {\n",
              "        vertical-align: middle;\n",
              "    }\n",
              "\n",
              "    .dataframe tbody tr th {\n",
              "        vertical-align: top;\n",
              "    }\n",
              "\n",
              "    .dataframe thead th {\n",
              "        text-align: right;\n",
              "    }\n",
              "</style>\n",
              "<table border=\"1\" class=\"dataframe\">\n",
              "  <thead>\n",
              "    <tr style=\"text-align: right;\">\n",
              "      <th></th>\n",
              "      <th>similar</th>\n",
              "      <th>all</th>\n",
              "      <th>score</th>\n",
              "      <th>anime_id</th>\n",
              "      <th>Name</th>\n",
              "      <th>English name</th>\n",
              "      <th>Other name</th>\n",
              "      <th>Score</th>\n",
              "      <th>Genres</th>\n",
              "      <th>Synopsis</th>\n",
              "      <th>...</th>\n",
              "      <th>Source</th>\n",
              "      <th>Duration</th>\n",
              "      <th>Rating</th>\n",
              "      <th>Rank</th>\n",
              "      <th>Popularity</th>\n",
              "      <th>Favorites</th>\n",
              "      <th>Scored By</th>\n",
              "      <th>Members</th>\n",
              "      <th>Image URL</th>\n",
              "      <th>clean_title</th>\n",
              "    </tr>\n",
              "  </thead>\n",
              "  <tbody>\n",
              "  </tbody>\n",
              "</table>\n",
              "<p>0 rows × 28 columns</p>\n",
              "</div>\n",
              "    <div class=\"colab-df-buttons\">\n",
              "\n",
              "  <div class=\"colab-df-container\">\n",
              "    <button class=\"colab-df-convert\" onclick=\"convertToInteractive('df-e1790c94-059e-48db-8267-4c63e4e06d00')\"\n",
              "            title=\"Convert this dataframe to an interactive table.\"\n",
              "            style=\"display:none;\">\n",
              "\n",
              "  <svg xmlns=\"http://www.w3.org/2000/svg\" height=\"24px\" viewBox=\"0 -960 960 960\">\n",
              "    <path d=\"M120-120v-720h720v720H120Zm60-500h600v-160H180v160Zm220 220h160v-160H400v160Zm0 220h160v-160H400v160ZM180-400h160v-160H180v160Zm440 0h160v-160H620v160ZM180-180h160v-160H180v160Zm440 0h160v-160H620v160Z\"/>\n",
              "  </svg>\n",
              "    </button>\n",
              "\n",
              "  <style>\n",
              "    .colab-df-container {\n",
              "      display:flex;\n",
              "      gap: 12px;\n",
              "    }\n",
              "\n",
              "    .colab-df-convert {\n",
              "      background-color: #E8F0FE;\n",
              "      border: none;\n",
              "      border-radius: 50%;\n",
              "      cursor: pointer;\n",
              "      display: none;\n",
              "      fill: #1967D2;\n",
              "      height: 32px;\n",
              "      padding: 0 0 0 0;\n",
              "      width: 32px;\n",
              "    }\n",
              "\n",
              "    .colab-df-convert:hover {\n",
              "      background-color: #E2EBFA;\n",
              "      box-shadow: 0px 1px 2px rgba(60, 64, 67, 0.3), 0px 1px 3px 1px rgba(60, 64, 67, 0.15);\n",
              "      fill: #174EA6;\n",
              "    }\n",
              "\n",
              "    .colab-df-buttons div {\n",
              "      margin-bottom: 4px;\n",
              "    }\n",
              "\n",
              "    [theme=dark] .colab-df-convert {\n",
              "      background-color: #3B4455;\n",
              "      fill: #D2E3FC;\n",
              "    }\n",
              "\n",
              "    [theme=dark] .colab-df-convert:hover {\n",
              "      background-color: #434B5C;\n",
              "      box-shadow: 0px 1px 3px 1px rgba(0, 0, 0, 0.15);\n",
              "      filter: drop-shadow(0px 1px 2px rgba(0, 0, 0, 0.3));\n",
              "      fill: #FFFFFF;\n",
              "    }\n",
              "  </style>\n",
              "\n",
              "    <script>\n",
              "      const buttonEl =\n",
              "        document.querySelector('#df-e1790c94-059e-48db-8267-4c63e4e06d00 button.colab-df-convert');\n",
              "      buttonEl.style.display =\n",
              "        google.colab.kernel.accessAllowed ? 'block' : 'none';\n",
              "\n",
              "      async function convertToInteractive(key) {\n",
              "        const element = document.querySelector('#df-e1790c94-059e-48db-8267-4c63e4e06d00');\n",
              "        const dataTable =\n",
              "          await google.colab.kernel.invokeFunction('convertToInteractive',\n",
              "                                                    [key], {});\n",
              "        if (!dataTable) return;\n",
              "\n",
              "        const docLinkHtml = 'Like what you see? Visit the ' +\n",
              "          '<a target=\"_blank\" href=https://colab.research.google.com/notebooks/data_table.ipynb>data table notebook</a>'\n",
              "          + ' to learn more about interactive tables.';\n",
              "        element.innerHTML = '';\n",
              "        dataTable['output_type'] = 'display_data';\n",
              "        await google.colab.output.renderOutput(dataTable, element);\n",
              "        const docLink = document.createElement('div');\n",
              "        docLink.innerHTML = docLinkHtml;\n",
              "        element.appendChild(docLink);\n",
              "      }\n",
              "    </script>\n",
              "  </div>\n",
              "\n",
              "\n",
              "    </div>\n",
              "  </div>\n"
            ],
            "application/vnd.google.colaboratory.intrinsic+json": {
              "type": "dataframe",
              "variable_name": "rec_percentages",
              "summary": "{\n  \"name\": \"rec_percentages\",\n  \"rows\": 0,\n  \"fields\": [\n    {\n      \"column\": \"anime_id\",\n      \"properties\": {\n        \"dtype\": \"number\",\n        \"std\": null,\n        \"min\": null,\n        \"max\": null,\n        \"num_unique_values\": 0,\n        \"samples\": [],\n        \"semantic_type\": \"\",\n        \"description\": \"\"\n      }\n    },\n    {\n      \"column\": \"similar\",\n      \"properties\": {\n        \"dtype\": \"number\",\n        \"std\": null,\n        \"min\": null,\n        \"max\": null,\n        \"num_unique_values\": 0,\n        \"samples\": [],\n        \"semantic_type\": \"\",\n        \"description\": \"\"\n      }\n    },\n    {\n      \"column\": \"all\",\n      \"properties\": {\n        \"dtype\": \"number\",\n        \"std\": null,\n        \"min\": null,\n        \"max\": null,\n        \"num_unique_values\": 0,\n        \"samples\": [],\n        \"semantic_type\": \"\",\n        \"description\": \"\"\n      }\n    },\n    {\n      \"column\": \"score\",\n      \"properties\": {\n        \"dtype\": \"number\",\n        \"std\": null,\n        \"min\": null,\n        \"max\": null,\n        \"num_unique_values\": 0,\n        \"samples\": [],\n        \"semantic_type\": \"\",\n        \"description\": \"\"\n      }\n    }\n  ]\n}"
            }
          },
          "metadata": {},
          "execution_count": 532
        }
      ]
    },
    {
      "cell_type": "code",
      "source": [
        "def find_similar_anime(anime_id):\n",
        "    similar_users = ratings[(ratings[\"anime_id\"] == anime_id) & (ratings[\"rating\"] > 4)][\"user_id\"].unique()\n",
        "    similar_user_recs = ratings[(ratings[\"user_id\"].isin(similar_users)) & (ratings[\"rating\"] > 4)][\"anime_id\"]\n",
        "    similar_user_recs = similar_user_recs.value_counts() / len(similar_users)\n",
        "\n",
        "    similar_user_recs = similar_user_recs[similar_user_recs > .10]\n",
        "    all_users = ratings[(ratings[\"anime_id\"].isin(similar_user_recs.index)) & (ratings[\"rating\"] > 4)]\n",
        "    all_user_recs = all_users[\"anime_id\"].value_counts() / len(all_users[\"user_id\"].unique())\n",
        "    rec_percentages = pd.concat([similar_user_recs, all_user_recs], axis=1)\n",
        "    rec_percentages.columns = [\"similar\", \"all\"]\n",
        "\n",
        "    rec_percentages[\"score\"] = rec_percentages[\"similar\"] / rec_percentages[\"all\"]\n",
        "    rec_percentages = rec_percentages.sort_values(\"similar\", ascending=False)\n",
        "    # Return columns that exist in the DataFrame\n",
        "    return rec_percentages.head(10).merge(anime, left_index=True, right_on=\"anime_id\")\n"
      ],
      "metadata": {
        "id": "GiJzbN3WxmGI"
      },
      "execution_count": null,
      "outputs": []
    },
    {
      "cell_type": "code",
      "source": [
        "import ipywidgets as widgets\n",
        "from IPython.display import display\n",
        "\n",
        "movie_name_input = widgets.Text(\n",
        "    value='',\n",
        "    description='Anime :',\n",
        "    disabled=False\n",
        ")\n",
        "recommendation_list = widgets.Output()\n",
        "\n",
        "def on_type(data):\n",
        "    with recommendation_list:\n",
        "        recommendation_list.clear_output()\n",
        "        name = data[\"new\"]\n",
        "        if len(name) > 5:\n",
        "            results = search(name)\n",
        "            animeID = results.iloc[0][\"anime_id\"]\n",
        "            display(find_similar_anime(animeID))\n",
        "\n",
        "movie_name_input.observe(on_type, names='value')\n",
        "\n",
        "display(movie_name_input, recommendation_list)\n"
      ],
      "metadata": {
        "colab": {
          "base_uri": "https://localhost:8080/",
          "height": 858,
          "referenced_widgets": [
            "73955860afa14b88bfbd91af02ec0816",
            "56f685a4b8b84246883714a3aa71df69",
            "07a67f9c7c964d579be1607c78d1f49e",
            "83eca6d29d8e4e19be08f903aa1cd0b7",
            "49a11cd01d5e46939133379414d21001"
          ]
        },
        "id": "6MXv8Ywq1_jX",
        "outputId": "0c9372c0-f081-48ed-9f82-af4a5dc319f6"
      },
      "execution_count": null,
      "outputs": [
        {
          "output_type": "display_data",
          "data": {
            "text/plain": [
              "Text(value='', description='Anime :')"
            ],
            "application/vnd.jupyter.widget-view+json": {
              "version_major": 2,
              "version_minor": 0,
              "model_id": "73955860afa14b88bfbd91af02ec0816"
            }
          },
          "metadata": {}
        },
        {
          "output_type": "display_data",
          "data": {
            "text/plain": [
              "Output()"
            ],
            "application/vnd.jupyter.widget-view+json": {
              "version_major": 2,
              "version_minor": 0,
              "model_id": "83eca6d29d8e4e19be08f903aa1cd0b7"
            }
          },
          "metadata": {}
        }
      ]
    }
  ]
}